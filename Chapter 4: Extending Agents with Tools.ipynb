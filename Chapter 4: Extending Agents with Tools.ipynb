{
 "cells": [
  {
   "cell_type": "markdown",
   "metadata": {},
   "source": [
    "# Chapter 4: Extending Agents with Tools"
   ]
  },
  {
   "cell_type": "markdown",
   "metadata": {},
   "source": [
    "Agents in Pydantic AI can perform a variety of tasks. However, sometimes, they need extra functionality, such as accessing live data, interacting with databases, or performing calculations. Tools allow agents to access external functions, making them more versatile and capable.\n",
    "\n",
    "In this tutorial, we'll walk through how to extend agents with tools, covering:\n",
    "\n",
    "- Creating and registering tools\n",
    "- Using built-in tools\n",
    "- Building powerful custom tools\n",
    "- Dependency injection for modular design\n",
    "\n",
    "We'll showcase these concepts with real-world examples instead of generic functions."
   ]
  },
  {
   "cell_type": "markdown",
   "metadata": {},
   "source": [
    "Before we start, we need to set up the environment."
   ]
  },
  {
   "cell_type": "code",
   "execution_count": 2,
   "metadata": {},
   "outputs": [],
   "source": [
    "import nest_asyncio\n",
    "nest_asyncio.apply()\n",
    "\n",
    "from pydantic_ai import Agent, RunContext\n",
    "import os\n",
    "import dotenv\n",
    "import random\n",
    "\n",
    "dotenv.load_dotenv()\n",
    "\n",
    "# Set your Google API key\n",
    "os.environ[\"GOOGLE_API_KEY\"] = os.getenv(\"GEMINI_API_KEY\")"
   ]
  },
  {
   "cell_type": "markdown",
   "metadata": {},
   "source": [
    "## 1. Introduction to Tools in Pydantic AI"
   ]
  },
  {
   "cell_type": "markdown",
   "metadata": {},
   "source": [
    "Tools allow an agent to call functions whenever needed. They can be:\n",
    "\n",
    "- Plain tools (`@agent.tool_plain`) → Standalone functions that return data\n",
    "- Context-aware tools (`@agent.tool`) → Require additional input from the agent's context\n",
    "\n",
    "We’ll demonstrate these in practical applications."
   ]
  },
  {
   "cell_type": "markdown",
   "metadata": {},
   "source": [
    "## 2. Registering Tools in an Agent"
   ]
  },
  {
   "cell_type": "markdown",
   "metadata": {},
   "source": [
    "Let's create an AI-powered workout planner that suggests exercises based on user preferences and fitness levels."
   ]
  },
  {
   "cell_type": "code",
   "execution_count": 15,
   "metadata": {},
   "outputs": [
    {
     "name": "stdout",
     "output_type": "stream",
     "text": [
      "I suggest you try Bench Press for strength training.\n",
      "\n"
     ]
    }
   ],
   "source": [
    "# Initialize the agent\n",
    "agent = Agent(\n",
    "    'google-gla:gemini-2.0-flash',\n",
    "    system_prompt=\"You are a fitness coach that suggests personalized workout plans.\",\n",
    ")\n",
    "\n",
    "# Define a tool to suggest workouts\n",
    "@agent.tool_plain\n",
    "def suggest_workout(goal: str) -> str:\n",
    "    \"\"\"Suggests a workout based on the user's fitness goal.\"\"\"\n",
    "    workouts = {\n",
    "        \"strength\": [\"Deadlifts\", \"Squats\", \"Bench Press\"],\n",
    "        \"cardio\": [\"Running\", \"Cycling\", \"Jump Rope\"],\n",
    "        \"flexibility\": [\"Yoga\", \"Dynamic Stretching\", \"Pilates\"],\n",
    "    }\n",
    "    \n",
    "    # Check for partial matches in the goal\n",
    "    for key in workouts:\n",
    "        if key in goal.lower():\n",
    "            return f\"Try this workout for {key}: {random.choice(workouts[key])}\"\n",
    "    \n",
    "    return f\"Try this workout: {random.choice(['Rest Day', 'Walking', 'Light Stretching'])}\"\n",
    "\n",
    "# Run the agent\n",
    "result = agent.run_sync('I want a workout for strength training.')\n",
    "print(result.data)"
   ]
  },
  {
   "cell_type": "markdown",
   "metadata": {},
   "source": [
    "## 3. Using Built-in Tools"
   ]
  },
  {
   "cell_type": "markdown",
   "metadata": {},
   "source": [
    "Pydantic AI comes with common tools like duckduckgo_search_tool() for web searches."
   ]
  },
  {
   "cell_type": "markdown",
   "metadata": {},
   "source": [
    "Install the duckduckgo tool if your environment doesn't have it."
   ]
  },
  {
   "cell_type": "code",
   "execution_count": null,
   "metadata": {},
   "outputs": [
    {
     "name": "stdout",
     "output_type": "stream",
     "text": [
      "Note: you may need to restart the kernel to use updated packages.\n"
     ]
    }
   ],
   "source": [
    "pip install 'pydantic-ai-slim[duckduckgo]' --quiet"
   ]
  },
  {
   "cell_type": "code",
   "execution_count": 16,
   "metadata": {},
   "outputs": [
    {
     "name": "stdout",
     "output_type": "stream",
     "text": [
      "The current Prime Minister of Malaysia is Anwar Ibrahim.  Malaysia has a parliamentary system; there is no President.\n",
      "\n"
     ]
    }
   ],
   "source": [
    "from pydantic_ai.common_tools.duckduckgo import duckduckgo_search_tool\n",
    "\n",
    "# Initialize the agent with a built-in search tool\n",
    "agent = Agent(\n",
    "    'google-gla:gemini-1.5-flash',\n",
    "    tools=[duckduckgo_search_tool()],\n",
    "    system_prompt=\"Search DuckDuckGo for the given query and return the results.\",\n",
    ")\n",
    "\n",
    "# Run the agent with a query\n",
    "result = agent.run_sync('What is the current President of Malaysia?')\n",
    "print(result.data)"
   ]
  },
  {
   "cell_type": "markdown",
   "metadata": {},
   "source": [
    "I found out that only the system prompt: `Search DuckDuckGo for the given query and return the results.` works, else it will return an error."
   ]
  },
  {
   "cell_type": "markdown",
   "metadata": {},
   "source": [
    "## 4. Dependency Injection in Tools"
   ]
  },
  {
   "cell_type": "markdown",
   "metadata": {},
   "source": [
    "Pydantic AI supports dependency injection, allowing you to manage dependencies effectively within your tools. This feature is particularly useful for injecting services or configurations that your tools require."
   ]
  },
  {
   "cell_type": "code",
   "execution_count": 20,
   "metadata": {},
   "outputs": [
    {
     "name": "stdout",
     "output_type": "stream",
     "text": [
      "The exchange rate for EUR is 0.85.\n",
      "\n"
     ]
    }
   ],
   "source": [
    "# Initialize the agent\n",
    "agent = Agent(\n",
    "    'google-gla:gemini-2.0-flash',\n",
    "    system_prompt='You provide exchange rate information to users.',\n",
    ")\n",
    "\n",
    "# Define a custom tool with dependency injection\n",
    "@agent.tool\n",
    "def get_exchange_rate(ctx: RunContext[dict], currency: str) -> str:\n",
    "    \"\"\"Fetch the exchange rate for a given currency.\"\"\"\n",
    "    exchange_rates = ctx.deps['exchange_rates']\n",
    "    rate = exchange_rates.get(currency.upper(), 'unknown')\n",
    "    return f\"The exchange rate for {currency.upper()} is {rate}.\"\n",
    "\n",
    "# Dependency data\n",
    "dependencies = {\n",
    "    'exchange_rates': {\n",
    "        'USD': '1.00',\n",
    "        'EUR': '0.85',\n",
    "        'JPY': '110.00',\n",
    "    }\n",
    "}\n",
    "\n",
    "# Run the agent with a user query\n",
    "result = agent.run_sync('What is the exchange rate for EUR?', deps=dependencies)\n",
    "print(result.data)"
   ]
  },
  {
   "cell_type": "markdown",
   "metadata": {},
   "source": [
    "## 5. Integrating Agents with External APIs"
   ]
  },
  {
   "cell_type": "markdown",
   "metadata": {},
   "source": [
    "### Example: Real-Time Crypto Price Tracking"
   ]
  },
  {
   "cell_type": "code",
   "execution_count": 22,
   "metadata": {},
   "outputs": [
    {
     "name": "stdout",
     "output_type": "stream",
     "text": [
      "The current price of Bitcoin is $80186.92 USD.  Over the past week, the price has gone down by 16.59%.\n",
      "\n"
     ]
    }
   ],
   "source": [
    "import requests\n",
    "\n",
    "# Initialize the Crypto Agent\n",
    "crypto_agent = Agent(\n",
    "    'google-gla:gemini-1.5-flash',\n",
    "    system_prompt='You provide real-time cryptocurrency prices and trends.',\n",
    ")\n",
    "\n",
    "# Define a tool to fetch Bitcoin price with CoinGecko API\n",
    "@crypto_agent.tool\n",
    "def get_bitcoin_price(ctx: RunContext) -> str:\n",
    "    \"\"\"Fetches the current price of Bitcoin and recent trend.\"\"\"\n",
    "    try:\n",
    "        # Use CoinGecko API to get Bitcoin data for the last 7 days\n",
    "        url = \"https://api.coingecko.com/api/v3/coins/bitcoin/market_chart?vs_currency=usd&days=7&interval=daily\"\n",
    "        response = requests.get(url, timeout=10)\n",
    "        response.raise_for_status()\n",
    "        data = response.json()\n",
    "        \n",
    "        # Extract prices\n",
    "        prices = data['prices']\n",
    "        \n",
    "        # Get the most recent price\n",
    "        current_price = prices[-1][1]\n",
    "        \n",
    "        # Calculate price change percentage over the period\n",
    "        first_price = prices[0][1]\n",
    "        price_change = ((current_price - first_price) / first_price) * 100\n",
    "        \n",
    "        # Format the response\n",
    "        trend = \"up\" if price_change > 0 else \"down\"\n",
    "        return f\"The current price of Bitcoin is ${current_price:.2f} USD. \" \\\n",
    "               f\"Over the past week, the price has gone {trend} by {abs(price_change):.2f}%.\"\n",
    "    \n",
    "    except Exception as e:\n",
    "        # Fallback to mock data when API is unavailable\n",
    "        return f\"Unable to fetch real-time Bitcoin price (Error: {type(e).__name__}). \" \\\n",
    "               f\"Using sample data: The current price of Bitcoin is $29,876.45 USD.\"\n",
    "\n",
    "# Run the Crypto Agent\n",
    "response = crypto_agent.run_sync('What is the current price of Bitcoin?')\n",
    "print(response.data)"
   ]
  },
  {
   "cell_type": "markdown",
   "metadata": {},
   "source": [
    "## 6. Creating Advanced Custom Tools"
   ]
  },
  {
   "cell_type": "markdown",
   "metadata": {},
   "source": [
    "### Example: Personal Finance AI"
   ]
  },
  {
   "cell_type": "code",
   "execution_count": 17,
   "metadata": {},
   "outputs": [
    {
     "name": "stdout",
     "output_type": "stream",
     "text": [
      "[{'category': 'food', 'amount': 50.0}, {'category': 'transport', 'amount': 30.0}]\n"
     ]
    }
   ],
   "source": [
    "# Initialize the agent\n",
    "agent = Agent(\n",
    "    'google-gla:gemini-1.5-flash',\n",
    "    system_prompt=\"You are a finance assistant that helps track expenses.\",\n",
    ")\n",
    "\n",
    "# Define a tool with dependency injection\n",
    "@agent.tool\n",
    "def add_expense(ctx: RunContext[dict], category: str, amount: float) -> str:\n",
    "    \"\"\"Stores a user's expense in the system.\"\"\"\n",
    "    ctx.deps['expenses'].append({'category': category, 'amount': amount})\n",
    "    return f\"Added {amount} to {category} expenses.\"\n",
    "\n",
    "# Initialize dependencies (storage for expenses)\n",
    "dependencies = {'expenses': []}\n",
    "\n",
    "# Run the agent\n",
    "agent.run_sync('Add 50 to food expenses.', deps=dependencies)\n",
    "agent.run_sync('Add 30 to transport expenses.', deps=dependencies)\n",
    "\n",
    "# Print stored expenses\n",
    "print(dependencies['expenses'])"
   ]
  },
  {
   "cell_type": "markdown",
   "metadata": {},
   "source": [
    "## 7. Combining Tools for Real-World Applications"
   ]
  },
  {
   "cell_type": "code",
   "execution_count": 18,
   "metadata": {},
   "outputs": [
    {
     "name": "stdout",
     "output_type": "stream",
     "text": [
      "Italian cuisine → Try Luigi's Pizza for Italian food!\n"
     ]
    }
   ],
   "source": [
    "# Initialize the agent\n",
    "agent = Agent(\n",
    "    'google-gla:gemini-1.5-flash',\n",
    "    system_prompt=\"You recommend restaurants based on user preferences.\",\n",
    ")\n",
    "\n",
    "# Tool to suggest a type of cuisine\n",
    "@agent.tool_plain\n",
    "def suggest_cuisine() -> str:\n",
    "    \"\"\"Suggests a random cuisine to try.\"\"\"\n",
    "    cuisines = [\"Italian\", \"Japanese\", \"Mexican\", \"Indian\", \"Thai\"]\n",
    "    return random.choice(cuisines)\n",
    "\n",
    "# Tool to fetch restaurants (simulating API response)\n",
    "@agent.tool_plain\n",
    "def find_restaurant(cuisine: str) -> str:\n",
    "    \"\"\"Finds a restaurant serving the specified cuisine.\"\"\"\n",
    "    restaurants = {\n",
    "        \"Italian\": [\"Pasta Heaven\", \"Luigi's Pizza\"],\n",
    "        \"Japanese\": [\"Sushi World\", \"Ramen House\"],\n",
    "        \"Mexican\": [\"Taco Land\", \"Burrito King\"],\n",
    "        \"Indian\": [\"Spice Bazaar\", \"Curry Express\"],\n",
    "        \"Thai\": [\"Bangkok Bites\", \"Thai Delight\"],\n",
    "    }\n",
    "    return f\"Try {random.choice(restaurants.get(cuisine, ['No options available']))} for {cuisine} food!\"\n",
    "\n",
    "# Run the agent\n",
    "cuisine = suggest_cuisine()  # Get a random cuisine\n",
    "result = find_restaurant(cuisine)  # Find a restaurant\n",
    "print(f\"{cuisine} cuisine → {result}\")"
   ]
  },
  {
   "cell_type": "markdown",
   "metadata": {},
   "source": [
    "- Multiple tools work together (suggest_cuisine + find_restaurant).\n",
    "- This approach makes the agent modular and reusable.\n",
    "- The logic can easily scale (e.g., integrating Google Places API)."
   ]
  },
  {
   "cell_type": "markdown",
   "metadata": {},
   "source": [
    "## Conclusion"
   ]
  },
  {
   "cell_type": "markdown",
   "metadata": {},
   "source": [
    "In this chapter, we explored how to extend Pydantic AI agents with tools.\n",
    "We covered:\n",
    "- Registering function tools (`@agent.tool` and `@agent.tool_plain`)\n",
    "- Using built-in tools like `duckduckgo_search_tool()`\n",
    "- Building custom tools for finance, fitness, crypto price tracking and food recommendations\n",
    "- Dependency injection to store and manage agent state\n",
    "\n",
    "With these skills, you can now create intelligent, real-world AI assistants\n",
    "\n",
    "In the next chapter, we'll explore multi-agent systems, where multiple agents work together to achieve a common goal."
   ]
  }
 ],
 "metadata": {
  "kernelspec": {
   "display_name": "venv",
   "language": "python",
   "name": "python3"
  },
  "language_info": {
   "codemirror_mode": {
    "name": "ipython",
    "version": 3
   },
   "file_extension": ".py",
   "mimetype": "text/x-python",
   "name": "python",
   "nbconvert_exporter": "python",
   "pygments_lexer": "ipython3",
   "version": "3.12.7"
  }
 },
 "nbformat": 4,
 "nbformat_minor": 2
}
