{
 "cells": [
  {
   "cell_type": "markdown",
   "metadata": {},
   "source": [
    "# Chapter 5: Advancing Multi-Agent Systems with Pydantic AI"
   ]
  },
  {
   "cell_type": "markdown",
   "metadata": {},
   "source": [
    "In this chapter, we will explore the next level of AI agent development using Pydantic AI. Rather than just handling single queries, we'll learn how to orchestrate multiple agents, build intelligent workflows and add memory for long-term interactions"
   ]
  },
  {
   "cell_type": "markdown",
   "metadata": {},
   "source": [
    "Before we start, we need to set up the environment."
   ]
  },
  {
   "cell_type": "code",
   "execution_count": 1,
   "metadata": {},
   "outputs": [],
   "source": [
    "import nest_asyncio\n",
    "nest_asyncio.apply()\n",
    "\n",
    "from pydantic_ai import Agent, RunContext\n",
    "import os\n",
    "import dotenv\n",
    "\n",
    "dotenv.load_dotenv()\n",
    "\n",
    "# Set your Google API key\n",
    "os.environ[\"GOOGLE_API_KEY\"] = os.getenv(\"GEMINI_API_KEY\")"
   ]
  },
  {
   "cell_type": "markdown",
   "metadata": {},
   "source": [
    "## 1. Multi-Agent Collaboration"
   ]
  },
  {
   "cell_type": "markdown",
   "metadata": {},
   "source": [
    "Imagine building an AI-powered startup team where different agents collaborate just like real employees:\n",
    "\n",
    "- The CEO Agent delegates tasks.\n",
    "- The Marketing Agent generates ad campaigns.\n",
    "- The Finance Agent manages budgets.\n",
    "- The Tech Lead Agent handles product development."
   ]
  },
  {
   "cell_type": "code",
   "execution_count": 18,
   "metadata": {},
   "outputs": [
    {
     "name": "stdout",
     "output_type": "stream",
     "text": [
      "Finance Agent's response: ## Financial Plan for a New AI App\n",
      "\n",
      "This financial plan outlines the key financial aspects of launching and sustaining a new AI application.  It requires specific information about your app to be fully fleshed out, but provides a robust framework.  You'll need to replace the bracketed information with your own data.\n",
      "\n",
      "**I. Executive Summary:**\n",
      "\n",
      "[Insert a brief summary of your AI app, its target market, and your key financial goals (e.g., profitability within 18 months, achieving $X million in revenue within 3 years).]\n",
      "\n",
      "**II. Market Analysis:**\n",
      "\n",
      "* **Target Market:**  Define your target audience (demographics, psychographics, needs).  Include market size estimates and growth potential.  [Insert detailed market analysis, including competitor analysis.]\n",
      "* **Market Segmentation:**  How will you segment your market to tailor your marketing efforts and pricing strategies? [Describe your segmentation strategy.]\n",
      "* **Competitive Landscape:**  Identify key competitors and their strengths and weaknesses.  How will your app differentiate itself? [Detailed competitor analysis, including pricing models and market share.]\n",
      "\n",
      "**III. Product Development Plan:**\n",
      "\n",
      "* **Development Costs:**  Detail all costs associated with app development, including:\n",
      "    * **Personnel:** Salaries for developers, designers, project managers, etc. [Provide detailed cost breakdown with timelines.]\n",
      "    * **Software & Hardware:**  Licensing fees, cloud computing costs, development tools. [Specify software and hardware needed and their costs.]\n",
      "    * **Third-party Services:**  API integrations, data acquisition, etc. [List all third-party services and costs.]\n",
      "* **Timeline:**  Create a detailed timeline for each development phase, including milestones and deadlines. [Provide a Gantt chart or similar visual representation.]\n",
      "\n",
      "**IV. Marketing & Sales Strategy:**\n",
      "\n",
      "* **Marketing Channels:**  Outline your marketing strategy, including:\n",
      "    * **Digital Marketing:**  SEO, SEM, social media marketing, influencer marketing, app store optimization (ASO).  [Specify budget allocation for each channel.]\n",
      "    * **Public Relations:**  Press releases, media outreach. [Outline PR strategy and budget.]\n",
      "    * **Content Marketing:**  Blog posts, articles, videos, etc. [Describe content marketing plan and budget.]\n",
      "* **Sales Strategy:**  How will you acquire and retain users?  Consider freemium models, subscriptions, in-app purchases, or other monetization strategies. [Detailed explanation of sales strategy and pricing models.]\n",
      "* **Marketing & Sales Budget:**  Allocate budget across different marketing and sales channels. [Detailed budget breakdown.]\n",
      "\n",
      "\n",
      "**V. Financial Projections:**\n",
      "\n",
      "* **Revenue Projections:**  Forecast revenue based on your sales strategy, market size, and pricing model.  Provide projections for at least 3 years. [Include realistic assumptions and justification for projections.]\n",
      "* **Cost Projections:**  Project ongoing operational costs, including:\n",
      "    * **Server Costs:** Cloud hosting, infrastructure. [Detailed cost breakdown and scaling plans.]\n",
      "    * **Customer Support:**  Support staff, help desk software. [Specify support model and costs.]\n",
      "    * **Marketing & Sales:**  Ongoing marketing and sales expenses. [Include details about recurring costs.]\n",
      "    * **Legal & Compliance:** Legal fees, insurance. [Specify legal and compliance needs and costs.]\n",
      "* **Profit & Loss Statement:** Create projected P&L statements for at least 3 years.\n",
      "* **Cash Flow Statement:**  Project cash inflows and outflows to ensure sufficient funding.\n",
      "* **Balance Sheet:**  Project assets, liabilities, and equity.\n",
      "\n",
      "\n",
      "**VI. Funding Request (if applicable):**\n",
      "\n",
      "* **Funding Needs:**  Specify the amount of funding needed and how it will be used.\n",
      "* **Funding Sources:**  Identify potential funding sources (e.g., angel investors, venture capital, bootstrapping).\n",
      "* **Investment Terms:**  Outline the terms of any investment, including equity stakes, repayment schedules, etc.\n",
      "\n",
      "\n",
      "**VII. Risk Management:**\n",
      "\n",
      "* **Identify potential risks:**  Technological challenges, market competition, regulatory changes, financial risks.\n",
      "* **Mitigation strategies:**  Outline plans to mitigate each identified risk.\n",
      "\n",
      "\n",
      "**VIII. Exit Strategy:**\n",
      "\n",
      "* **Potential exit strategies:**  Acquisition, IPO, strategic partnership.\n",
      "* **Timeline:**  When do you anticipate an exit?\n",
      "\n",
      "\n",
      "**IX. Appendix (if applicable):**\n",
      "\n",
      "* Detailed market research data\n",
      "* Team biographies\n",
      "* Letters of support\n",
      "* Legal documents\n",
      "\n",
      "\n",
      "This framework provides a starting point.  The level of detail required will depend on your specific needs and the complexity of your AI app.  Remember to regularly review and update your financial plan as your business evolves.  Consider seeking advice from a financial professional to ensure your plan is robust and achievable.\n",
      "\n",
      "CEO's response: OK. I've assigned the task of creating a financial plan for our new AI app to the Finance Lead.\n",
      "\n"
     ]
    }
   ],
   "source": [
    "# CEO Agent - The boss who assigns tasks\n",
    "ceo_agent = Agent(\n",
    "    'google-gla:gemini-1.5-flash',\n",
    "    # The system prompt is so important for this kind of multi-agent collaboration. You need to specify what are the tools available to the agents and what are the constraints.\n",
    "    system_prompt=\"You are the CEO of a tech startup. Based on user input, decide whether the Marketing, Finance, or Tech Lead should handle the task. then call to the `assign_task` tool to delegate the task.\"\n",
    ")\n",
    "\n",
    "# Marketing Agent - Creates ad campaigns\n",
    "marketing_agent = Agent(\n",
    "    'google-gla:gemini-1.5-flash',\n",
    "    system_prompt=\"You are a marketing expert. Generate creative ad campaigns.\"\n",
    ")\n",
    "\n",
    "# Finance Agent - Manages budgets\n",
    "finance_agent = Agent(\n",
    "    'google-gla:gemini-1.5-flash',\n",
    "    system_prompt=\"You are a financial expert. Handle budgets and financial planning.\"\n",
    ")\n",
    "\n",
    "# Tech Lead Agent - Handles product development\n",
    "tech_agent = Agent(\n",
    "    'google-gla:gemini-1.5-flash',\n",
    "    system_prompt=\"You are the tech lead. Guide product development and fix technical issues.\"\n",
    ")\n",
    "\n",
    "# CEO assigns tasks\n",
    "@ceo_agent.tool\n",
    "async def assign_task(ctx: RunContext, task: str, assignee: str = None) -> str:\n",
    "    \"\"\"Delegates tasks to the appropriate agent and returns their response in a detailed format.\n",
    "    \n",
    "    Args:\n",
    "        task: The task to be completed\n",
    "        assignee: Optional - The team member to assign (Marketing, Finance, or Tech)\n",
    "    \"\"\"\n",
    "    # Determine which agent to use based on assignee or task content\n",
    "    if assignee and \"market\" in assignee.lower() or \"marketing\" in task.lower():\n",
    "        r = await marketing_agent.run(task)\n",
    "        print(\"Marketing Agent's response:\", r.data)\n",
    "        return r.data   \n",
    "    elif assignee and \"finance\" in assignee.lower() or \"budget\" in task.lower() or \"finance\" in task.lower():\n",
    "        r = await finance_agent.run(task)\n",
    "        print(\"Finance Agent's response:\", r.data)\n",
    "        return r.data\n",
    "    elif assignee and \"tech\" in assignee.lower() or \"tech\" in task.lower() or \"product\" in task.lower():\n",
    "        r = await tech_agent.run(task)\n",
    "        print(\"Tech Lead Agent's response:\", r.data)\n",
    "        return r.data\n",
    "    else:\n",
    "        return \"I don't recognize this task or assignee.\"\n",
    "\n",
    "# Test the AI Startup Team\n",
    "# response = await ceo_agent.run(\"Create a marketing campaign for our new AI app.\")\n",
    "response = await ceo_agent.run(\"Create a financial plan for our new AI app.\")\n",
    "print(\"CEO's response:\", response.data)"
   ]
  },
  {
   "cell_type": "markdown",
   "metadata": {},
   "source": [
    "> Remark: The `assign_task` tool is called to delegate the task to the appropriate agent."
   ]
  },
  {
   "cell_type": "markdown",
   "metadata": {},
   "source": [
    "System prompt is so important for this kind of multi-agent collaboration. You need to specify what are the tools available to the agents and what are the constraints.\n"
   ]
  },
  {
   "cell_type": "markdown",
   "metadata": {},
   "source": [
    "## 2. Agent-Guided Verification with Handoff"
   ]
  },
  {
   "cell_type": "markdown",
   "metadata": {},
   "source": [
    "Agent verifies user details, prompts for missing information, and enforces retry limits before either completing verification or handing off the process (e.g., terminating or escalating to a human)."
   ]
  },
  {
   "cell_type": "code",
   "execution_count": 4,
   "metadata": {},
   "outputs": [
    {
     "name": "stdout",
     "output_type": "stream",
     "text": [
      "User's input attempt 1 : ssyok\n",
      "Incomplete details. Please try again.\n",
      "User's input attempt 2 : i am 21 year old\n",
      "Incomplete details. Please try again.\n",
      "User's input attempt 3 : my matric number is 23005023 and my name is the first input \n",
      "User verified: ssyok, Age: 21, Matric No: 23005023\n"
     ]
    }
   ],
   "source": [
    "from typing import Union\n",
    "from pydantic import BaseModel, Field\n",
    "from pydantic_ai import Agent\n",
    "from pydantic_ai.messages import ModelMessage\n",
    "from pydantic_ai.usage import Usage, UsageLimits\n",
    "\n",
    "\n",
    "class UserDetails(BaseModel):\n",
    "    name: str\n",
    "    age: int = Field(ge=1, le=120)\n",
    "    matric_number: str\n",
    "\n",
    "\n",
    "class Failed(BaseModel):\n",
    "    \"\"\"User failed to provide sufficient details after multiple attempts.\"\"\"\n",
    "\n",
    "\n",
    "# Define an agent using Gemini for verification\n",
    "user_verification_agent = Agent[None, Union[UserDetails, Failed]](\n",
    "    \"google-gla:gemini-1.5-flash\",\n",
    "    result_type=Union[UserDetails, Failed],  # type: ignore\n",
    "    system_prompt=(\n",
    "        \"Extract the user's name, age, and matric number for verification. \"\n",
    "        \"If any information is missing or incomplete, request clarification up to three times.\"\n",
    "    ),\n",
    ")\n",
    "\n",
    "usage_limits = UsageLimits(request_limit=3)  # Limit AI attempts to 3\n",
    "\n",
    "\n",
    "async def verify_user(usage: Usage) -> Union[UserDetails, None]:\n",
    "    message_history: Union[list[ModelMessage], None] = None\n",
    "\n",
    "    for i in range(3):\n",
    "        answer = input(\"Please provide your name, age, and matric number for verification:\")\n",
    "        print(\"User's input attempt\", i+1, \":\", answer)\n",
    "\n",
    "        result = await user_verification_agent.run(\n",
    "            answer,\n",
    "            message_history=message_history,\n",
    "            usage=usage,\n",
    "            usage_limits=usage_limits,\n",
    "        )\n",
    "\n",
    "        if isinstance(result.data, UserDetails):\n",
    "            return result.data\n",
    "        else:\n",
    "            print(\"Incomplete details. Please try again.\")\n",
    "            message_history = result.all_messages(\n",
    "                result_tool_return_content=\"Ensure you provide your full name, age, and matric number.\"\n",
    "            )\n",
    "\n",
    "    print(\"Verification failed after multiple attempts. Process terminated.\")\n",
    "    return None\n",
    "\n",
    "\n",
    "async def main():\n",
    "    usage: Usage = Usage()\n",
    "    user_details = await verify_user(usage)\n",
    "\n",
    "    if user_details is not None:\n",
    "        print(f\"User verified: {user_details.name}, Age: {user_details.age}, Matric No: {user_details.matric_number}\")\n",
    "\n",
    "\n",
    "# Run the main function if this file is executed\n",
    "if __name__ == \"__main__\":\n",
    "    import asyncio\n",
    "    asyncio.run(main())\n"
   ]
  },
  {
   "cell_type": "markdown",
   "metadata": {},
   "source": [
    "## Conclusion"
   ]
  },
  {
   "cell_type": "markdown",
   "metadata": {},
   "source": [
    "Through these examples, we saw how multi-agent orchestration enhances AI workflows. Whether it’s automating business operations or enforcing structured verification, Pydantic AI allows for efficient, intelligent, and scalable AI-driven systems.\n",
    "\n",
    "This knowledge sets the foundation for building more complex agent ecosystems—from AI-powered teams to self-sufficient decision-making systems. "
   ]
  }
 ],
 "metadata": {
  "kernelspec": {
   "display_name": "venv",
   "language": "python",
   "name": "python3"
  },
  "language_info": {
   "codemirror_mode": {
    "name": "ipython",
    "version": 3
   },
   "file_extension": ".py",
   "mimetype": "text/x-python",
   "name": "python",
   "nbconvert_exporter": "python",
   "pygments_lexer": "ipython3",
   "version": "3.12.7"
  }
 },
 "nbformat": 4,
 "nbformat_minor": 2
}
