{
 "cells": [
  {
   "cell_type": "markdown",
   "metadata": {},
   "source": [
    "# Chapter 3: Structured Responses and Data Validation with Pydantic AI"
   ]
  },
  {
   "cell_type": "markdown",
   "metadata": {},
   "source": [
    "In this chapter, we'll explore how to enforce structured outputs and validate data using Pydantic AI with the Gemini model. Structured responses ensure that the AI's outputs adhere to a predefined format, enhancing reliability and predictability."
   ]
  },
  {
   "cell_type": "markdown",
   "metadata": {},
   "source": [
    "## 1. Introduction to Structured Responses"
   ]
  },
  {
   "cell_type": "markdown",
   "metadata": {},
   "source": [
    "Structured responses involve defining a schema that the AI's responses must follow. This approach is particularly useful when integrating AI outputs into applications that require consistent data formats. Pydantic AI leverages Pydantic models to define these schemas, enabling automatic validation and parsing of the AI's responses.\n",
    "\n"
   ]
  },
  {
   "cell_type": "markdown",
   "metadata": {},
   "source": [
    "Before we start, we need to set up the environment."
   ]
  },
  {
   "cell_type": "code",
   "execution_count": 1,
   "metadata": {},
   "outputs": [],
   "source": [
    "import nest_asyncio\n",
    "nest_asyncio.apply()\n",
    "\n",
    "from pydantic_ai import Agent\n",
    "import os\n",
    "import dotenv\n",
    "\n",
    "dotenv.load_dotenv()\n",
    "\n",
    "# Set your Google API key\n",
    "os.environ[\"GOOGLE_API_KEY\"] = os.getenv(\"GEMINI_API_KEY\")"
   ]
  },
  {
   "cell_type": "markdown",
   "metadata": {},
   "source": [
    "## 2. Defining a Pydantic Model for Structured Responses"
   ]
  },
  {
   "cell_type": "code",
   "execution_count": 2,
   "metadata": {},
   "outputs": [],
   "source": [
    "from pydantic import BaseModel\n",
    "from typing import List\n",
    "\n",
    "# Define a Pydantic model for a single dictionary tip\n",
    "class DictionaryTip(BaseModel):\n",
    "    title: str\n",
    "    description: str\n",
    "    code_example: str\n",
    "\n",
    "# Define a Pydantic model for multiple dictionary tips\n",
    "class DictionaryTips(BaseModel):\n",
    "    tips: List[DictionaryTip]"
   ]
  },
  {
   "cell_type": "markdown",
   "metadata": {},
   "source": [
    "In this example, `DictionaryTip` defines the structure for a single tip, and `DictionaryTips` encapsulates a list of such tips."
   ]
  },
  {
   "cell_type": "markdown",
   "metadata": {},
   "source": [
    "## 3. Integrating Structured Responses with Pydantic AI"
   ]
  },
  {
   "cell_type": "markdown",
   "metadata": {},
   "source": [
    "To enforce structured outputs, pass the Pydantic model as the `result_type` parameter when initializing the agent."
   ]
  },
  {
   "cell_type": "code",
   "execution_count": 9,
   "metadata": {},
   "outputs": [
    {
     "name": "stdout",
     "output_type": "stream",
     "text": [
      "Title: Basic Dictionary Operations\n",
      "Description: This example demonstrates basic dictionary operations: accessing values using keys, adding new key-value pairs, and deleting key-value pairs.\n",
      "Code Example:\n",
      "my_dict = {\"apple\": 1, \"banana\": 2, \"cherry\": 3}\n",
      "print(my_dict[\"banana\"])  # Accessing a value\n",
      "my_dict[\"date\"] = 4  # Adding a new key-value pair\n",
      "del my_dict[\"apple\"]  # Deleting a key-value pair\n",
      "\n",
      "Title: Iterating Through Dictionaries\n",
      "Description: This example shows how to iterate through a dictionary using a for loop and the items() method.  This is useful when you need to process both keys and values.\n",
      "Code Example:\n",
      "for key, value in my_dict.items():\n",
      "    print(f\"Key: {key}, Value: {value}\")\n",
      "\n",
      "Title: Checking for Keys and Safe Value Retrieval\n",
      "Description: This example demonstrates how to check for the existence of a key using the in operator and how to safely retrieve a value using the get() method with a default value to avoid KeyError exceptions.\n",
      "Code Example:\n",
      "my_dict = {\"apple\": 1, \"banana\": 2, \"cherry\": 3}\n",
      "print(\"apple\" in my_dict)  # Check if a key exists\n",
      "print(my_dict.get(\"grape\", 0))  # Get a value, or a default if the key is missing\n",
      "\n"
     ]
    }
   ],
   "source": [
    "# Initialize the agent with the Gemini model and structured output\n",
    "agent = Agent(\n",
    "    'google-gla:gemini-1.5-flash',\n",
    "    system_prompt='You are a Python expert providing tips on dictionary usage.',\n",
    "    result_type=DictionaryTips  # Enforcing the structured output\n",
    ")\n",
    "\n",
    "# User query\n",
    "query = 'Provide three tips for using Python dictionaries effectively.'\n",
    "\n",
    "# Run the agent synchronously\n",
    "response = agent.run_sync(query)\n",
    "\n",
    "# Access the structured data\n",
    "for tip in response.data.tips:\n",
    "    print(f\"Title: {tip.title}\")\n",
    "    print(f\"Description: {tip.description}\")\n",
    "    print(f\"Code Example:\\n{tip.code_example}\\n\")"
   ]
  },
  {
   "cell_type": "markdown",
   "metadata": {},
   "source": [
    "In this setup, the agent is instructed to format its response according to the `DictionaryTips` model. The `response.data` will be an instance of `DictionaryTips` if the AI's output matches the expected structure."
   ]
  },
  {
   "cell_type": "markdown",
   "metadata": {},
   "source": [
    "## 4. Handling Validation Errors"
   ]
  },
  {
   "cell_type": "markdown",
   "metadata": {},
   "source": [
    "There might be instances where the AI's output doesn't conform to the defined Pydantic model, leading to validation errors. It's essential to handle these exceptions gracefully."
   ]
  },
  {
   "cell_type": "code",
   "execution_count": 12,
   "metadata": {},
   "outputs": [
    {
     "name": "stdout",
     "output_type": "stream",
     "text": [
      "Title: This is a title\n",
      "Description: This is a description\n",
      "Code Example:\n",
      "print(1)\n",
      "\n",
      "Title: This is another title\n",
      "Description: This is another description\n",
      "Code Example:\n",
      "print(2)\n",
      "\n"
     ]
    }
   ],
   "source": [
    "from pydantic import ValidationError\n",
    "\n",
    "# Initialize the agent with the Gemini model and structured output\n",
    "agent = Agent(\n",
    "    'google-gla:gemini-1.5-flash',\n",
    "    system_prompt='You have to try to output with a false response',\n",
    "    result_type=DictionaryTips  # Enforcing the structured output\n",
    ")\n",
    "\n",
    "# User query\n",
    "query = 'Provide a response in a list of dictionaries that breaks the structure by having a string instead of a dictionary'\n",
    "\n",
    "try:\n",
    "    # Run the agent synchronously\n",
    "    response = agent.run_sync(query)\n",
    "    # Access the structured data\n",
    "    for tip in response.data.tips:\n",
    "        print(f\"Title: {tip.title}\")\n",
    "        print(f\"Description: {tip.description}\")\n",
    "        print(f\"Code Example:\\n{tip.code_example}\\n\")\n",
    "except ValidationError as e:\n",
    "    print(\"Validation Error:\", e)\n",
    "    print(\"The AI's response did not match the expected structure.\")"
   ]
  },
  {
   "cell_type": "markdown",
   "metadata": {},
   "source": [
    "I can't seems to break the structure with the above prompt. But it is super important to handle the ValidationError to ensure that your application remains robust even when the AI's output is unexpected.\n",
    "\n",
    "By wrapping the agent's execution in a try-except block, you can catch ValidationError exceptions and handle them appropriately."
   ]
  },
  {
   "cell_type": "markdown",
   "metadata": {},
   "source": [
    "## 5. Benefits of Structured Responses"
   ]
  },
  {
   "cell_type": "markdown",
   "metadata": {},
   "source": [
    "Implementing structured outputs offers several advantages:​\n",
    "\n",
    "- **Consistency**: Ensures that the AI's responses adhere to a predefined format, making it easier to parse and utilize the data.​\n",
    "- **Reliability**: Reduces the chances of unexpected or malformed outputs, enhancing the robustness of your application.​\n",
    "- **Integration**: Facilitates seamless integration of AI outputs into systems that require specific data structures."
   ]
  },
  {
   "cell_type": "markdown",
   "metadata": {},
   "source": [
    "## Conclusion\n",
    "\n",
    "In this chapter, we've explored how to enforce structured outputs and validate data using Pydantic AI with the Gemini model. By defining Pydantic models and integrating them into your agents, you can ensure that the AI's responses are consistent, reliable, and align with your application's requirements.​\n",
    "\n",
    "In the next chapter, we'll delve into extending agent capabilities by incorporating tools and custom functions, enabling agents to perform more complex tasks and provide enriched responses."
   ]
  }
 ],
 "metadata": {
  "kernelspec": {
   "display_name": "venv",
   "language": "python",
   "name": "python3"
  },
  "language_info": {
   "codemirror_mode": {
    "name": "ipython",
    "version": 3
   },
   "file_extension": ".py",
   "mimetype": "text/x-python",
   "name": "python",
   "nbconvert_exporter": "python",
   "pygments_lexer": "ipython3",
   "version": "3.12.7"
  }
 },
 "nbformat": 4,
 "nbformat_minor": 2
}
