{
 "cells": [
  {
   "cell_type": "markdown",
   "metadata": {},
   "source": [
    "# Chapter 1: Introduction to Pydantic AI\n",
    "\n",
    "In this chapter, we'll introduce Pydantic AI, guide you through its installation and setup, and walk you through creating a simple \"Hello World\" agent using Gemini model."
   ]
  },
  {
   "cell_type": "markdown",
   "metadata": {},
   "source": [
    "## 1. Introduction to Pydantic AI\n",
    "\n",
    "Pydantic AI is a Python framework designed to simplify the development of production-grade applications utilizing Generative AI. Built by the team behind Pydantic, it offers a model-agnostic approach, supporting various AI models such as OpenAI, Anthropic, Gemini, Deepseek, Ollama, Groq, Cohere, and Mistral. \n",
    "\n",
    "Pydantic AI emphasizes:\n",
    "- Type safety\n",
    "- Structured responses\n",
    "- Seamless integration with tools like Pydantic Logfire for real-time debugging and performance monitoring"
   ]
  },
  {
   "cell_type": "markdown",
   "metadata": {},
   "source": [
    "## 2. Installation and Setup\n",
    "\n",
    "To begin using Pydantic AI, ensure you have Python 3.9 or higher installed. Kindly follow the `README.md` file to install the package."
   ]
  },
  {
   "cell_type": "markdown",
   "metadata": {},
   "source": [
    "### To enable the use of synchronous operations within Jupyter Notebook, you need to import nest_asyncio and apply it."
   ]
  },
  {
   "cell_type": "code",
   "execution_count": 13,
   "metadata": {},
   "outputs": [],
   "source": [
    "import nest_asyncio\n",
    "nest_asyncio.apply()"
   ]
  },
  {
   "cell_type": "markdown",
   "metadata": {},
   "source": [
    "### Import the Agent class and set the Google API key"
   ]
  },
  {
   "cell_type": "code",
   "execution_count": null,
   "metadata": {},
   "outputs": [],
   "source": [
    "from pydantic_ai import Agent\n",
    "import os\n",
    "import dotenv\n",
    "\n",
    "dotenv.load_dotenv()\n",
    "\n",
    "# Set your Google API key\n",
    "os.environ[\"GOOGLE_API_KEY\"] = os.getenv(\"GEMINI_API_KEY\")"
   ]
  },
  {
   "cell_type": "markdown",
   "metadata": {},
   "source": [
    "## 3. Creating a \"Hello World\" Agent\n",
    "\n",
    "Let's create simple agents that respond to basic queries using Gemini model."
   ]
  },
  {
   "cell_type": "code",
   "execution_count": 25,
   "metadata": {},
   "outputs": [
    {
     "name": "stdout",
     "output_type": "stream",
     "text": [
      "Gemini Response:\n",
      "Pydantic AI combines data validation and settings management from Pydantic with tools for building AI applications. Key features include:\n",
      "\n",
      "*   **AI Models with Data Validation:** Easily define AI models with type hints and validation using Pydantic.\n",
      "*   **Prompt Engineering:** Tools for crafting and managing prompts with built-in support for Jinja templating.\n",
      "*   **Function Calling:** Enables models to execute Python functions based on their output.\n",
      "*   **OpenAI Integration:** Simplified integration with OpenAI APIs.\n",
      "*   **Embedding Support:** Manages creation, storage, and retrieval of embeddings with vector databases.\n",
      "\n"
     ]
    }
   ],
   "source": [
    "# Initialize the agent with Gemini model\n",
    "gemini_agent = Agent(\n",
    "    'google-gla:gemini-2.0-flash',  # Using Gemini 1.5 Flash model\n",
    "    system_prompt='You are a helpful assistant specialized in Python programming.',\n",
    ")\n",
    "\n",
    "# Run the agent with a user query\n",
    "result = gemini_agent.run_sync('What are the key features of Pydantic AI in a short response.')\n",
    "print(\"Gemini Response:\")\n",
    "print(result.data)"
   ]
  },
  {
   "cell_type": "markdown",
   "metadata": {},
   "source": [
    "## 4. Async Usage\n",
    "\n",
    "Pydantic AI also supports asynchronous operations, which is useful for web applications or when making multiple requests."
   ]
  },
  {
   "cell_type": "code",
   "execution_count": 19,
   "metadata": {},
   "outputs": [],
   "source": [
    "import asyncio"
   ]
  },
  {
   "cell_type": "code",
   "execution_count": 24,
   "metadata": {},
   "outputs": [
    {
     "name": "stdout",
     "output_type": "stream",
     "text": [
      "Gemini Response:\n",
      "Pydantic AI streamlines structured outputs by using Pydantic models as output types.  Define your desired output structure as a Pydantic model with type annotations. Then, pass this model class to your `ai_model` function. Pydantic AI automatically infers the schema and handles parsing the AI's response into an instance of your model.  This ensures type safety and easy access to the extracted information.\n",
      "\n",
      "```python\n",
      "from pydantic import BaseModel\n",
      "from pydantic_ai import ai_model\n",
      "\n",
      "class Person(BaseModel):\n",
      "    name: str\n",
      "    age: int\n",
      "\n",
      "@ai_model\n",
      "def extract_person(text: str) -> Person:\n",
      "    \"\"\"Extracts a person's name and age from text.\"\"\"\n",
      "\n",
      "text = \"John is 30 years old.\"\n",
      "person = extract_person(text)\n",
      "print(person.name, person.age)\n",
      "```\n",
      "\n"
     ]
    }
   ],
   "source": [
    "async def ask_gemini():\n",
    "    # Initialize the agent with Gemini model\n",
    "    agent = Agent(\n",
    "        'google-gla:gemini-2.0-flash',\n",
    "        system_prompt='You are a helpful assistant specialized in Python programming.',\n",
    "    )\n",
    "    \n",
    "    # Run the agent asynchronously\n",
    "    result = await agent.run('Explain how to use structured outputs in Pydantic AI in a short response')\n",
    "    print(\"Gemini Response:\")\n",
    "    print(result.data)\n",
    "\n",
    "# Run the async function\n",
    "asyncio.run(ask_gemini())"
   ]
  },
  {
   "cell_type": "markdown",
   "metadata": {},
   "source": [
    "## 5. Streaming Usage"
   ]
  },
  {
   "cell_type": "code",
   "execution_count": 26,
   "metadata": {},
   "outputs": [
    {
     "name": "stdout",
     "output_type": "stream",
     "text": [
      "The crimson sun bled across the viewport, casting long shadows across the bridge.  CaptainThe crimson sun bled across the viewport, casting long shadows across the bridge.  Captain Eva Rostova gripped the armrest, knuckles white.  The Xylos,The crimson sun bled across the viewport, casting long shadows across the bridge.  Captain Eva Rostova gripped the armrest, knuckles white.  The Xylos, their exploratory vessel, had been adrift for 72 cycles.  Navigation was fried, comms silent.  Only the rhythmic hum of the life support systems offeredThe crimson sun bled across the viewport, casting long shadows across the bridge.  Captain Eva Rostova gripped the armrest, knuckles white.  The Xylos, their exploratory vessel, had been adrift for 72 cycles.  Navigation was fried, comms silent.  Only the rhythmic hum of the life support systems offered any comfort in the oppressive silence.  Then, a flicker.  A faint signal, impossibly faint, but a signal nonetheless.  Hope, fragile as a newborn star, sparked in Eva's chest.  It wasn't a distress call; it was a song.  An ancient, haunting melody, emanating from…somewhere beyond the known galaxy.  The Xylos, lost, was about to find something far stranger than home.\n"
     ]
    }
   ],
   "source": [
    "# Storyteller Agent\n",
    "story_agent = Agent(\n",
    "    'google-gla:gemini-1.5-flash',\n",
    "    system_prompt=\"You are an AI storyteller. Generate engaging, real-time sci-fi adventures.\"\n",
    ")\n",
    "\n",
    "# Stream the story\n",
    "async def stream_story():\n",
    "    user_prompt = \"Tell me a sci-fi story about a lost spaceship in a short response.\"\n",
    "    async with story_agent.run_stream(user_prompt) as response:\n",
    "        async for part in response.stream_text():\n",
    "            print(part, end='', flush=True)\n",
    "\n",
    "# Run the streaming story generator\n",
    "asyncio.run(stream_story())"
   ]
  },
  {
   "cell_type": "markdown",
   "metadata": {},
   "source": [
    "## Conclusion\n",
    "\n",
    "In this chapter, we've introduced Pydantic AI and demonstrated how to create simple agents using Gemini model.\n",
    "\n",
    "In the upcoming chapters, we'll delve deeper into building more complex agents, incorporating tools, handling structured responses, and exploring advanced features of Pydantic AI."
   ]
  }
 ],
 "metadata": {
  "kernelspec": {
   "display_name": "venv",
   "language": "python",
   "name": "python3"
  },
  "language_info": {
   "codemirror_mode": {
    "name": "ipython",
    "version": 3
   },
   "file_extension": ".py",
   "mimetype": "text/x-python",
   "name": "python",
   "nbconvert_exporter": "python",
   "pygments_lexer": "ipython3",
   "version": "3.12.7"
  }
 },
 "nbformat": 4,
 "nbformat_minor": 4
}
